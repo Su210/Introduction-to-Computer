{
  "nbformat": 4,
  "nbformat_minor": 0,
  "metadata": {
    "colab": {
      "provenance": [],
      "authorship_tag": "ABX9TyOl5KyQ0DZ/POlxXPf6b/kO",
      "include_colab_link": true
    },
    "kernelspec": {
      "name": "python3",
      "display_name": "Python 3"
    },
    "language_info": {
      "name": "python"
    }
  },
  "cells": [
    {
      "cell_type": "markdown",
      "metadata": {
        "id": "view-in-github",
        "colab_type": "text"
      },
      "source": [
        "<a href=\"https://colab.research.google.com/github/Su210/Introduction-to-Computer/blob/main/0515.ipynb\" target=\"_parent\"><img src=\"https://colab.research.google.com/assets/colab-badge.svg\" alt=\"Open In Colab\"/></a>"
      ]
    },
    {
      "cell_type": "code",
      "execution_count": 1,
      "metadata": {
        "colab": {
          "base_uri": "https://localhost:8080/"
        },
        "id": "uuPnpjgJt9RT",
        "outputId": "9f1c4814-0947-4ebb-e4b6-e9ae68cd31c2"
      },
      "outputs": [
        {
          "output_type": "stream",
          "name": "stdout",
          "text": [
            "0515\n"
          ]
        }
      ],
      "source": [
        "print(\"0515\")"
      ]
    },
    {
      "cell_type": "code",
      "source": [
        "rain = str(input(\"今天會下雨嗎?\"))\n",
        "if (rain ==\"Y\" or rain ==\"y\"):\n",
        "  print(\"出門記得帶傘!\")\n",
        "elif (rain ==\"N\" or rain ==\"n\"):\n",
        "  print(\"出門記得帶傘!\")\n",
        "else:\n",
        "  print(\"請重新輸入!\")\n"
      ],
      "metadata": {
        "colab": {
          "base_uri": "https://localhost:8080/"
        },
        "id": "xJXHPlIIt_8H",
        "outputId": "be8b93e8-ab85-44b2-a944-230611a481bd"
      },
      "execution_count": 2,
      "outputs": [
        {
          "output_type": "stream",
          "name": "stdout",
          "text": [
            "今天會下雨嗎?o\n",
            "請重新輸入!\n"
          ]
        }
      ]
    },
    {
      "cell_type": "code",
      "source": [
        "rain = str(input(\"今天會下雨嗎?\"))\n",
        "if (rain ==\"Y\"):\n",
        "  print(\"出門記得帶傘!\")\n",
        "elif(rain ==\"y\"):\n",
        "  print(\"出門記得帶傘!\")\n",
        "elif(rain ==\"N\"):\n",
        "  print(\"出門記得帶傘!\")    \n",
        "elif (rain ==\"n\"):\n",
        "  print(\"出門記得帶傘!\")\n",
        "else:\n",
        "  print(\"請重新輸入!\")\n"
      ],
      "metadata": {
        "colab": {
          "base_uri": "https://localhost:8080/"
        },
        "id": "4iigLbj1vBCL",
        "outputId": "00b62500-acff-4afe-9251-d01d0d7115cc"
      },
      "execution_count": 4,
      "outputs": [
        {
          "output_type": "stream",
          "name": "stdout",
          "text": [
            "今天會下雨嗎?o\n",
            "請重新輸入!\n"
          ]
        }
      ]
    },
    {
      "cell_type": "code",
      "source": [
        "temperature = int(input(\"體溫:\"))\n",
        "if temperature >= 37.5:\n",
        "  print(\"體溫過高!\") \n",
        "elif temperature <=37.4 and temperature >= 37 :\n",
        "  print(\"體溫略高!\")  \n",
        "elif temperature <=36.9 and temperature >= 34 :\n",
        "  print(\"體溫正常!\")\n",
        "else:\n",
        "  print(\"體溫異常，請重新測量!\")    "
      ],
      "metadata": {
        "colab": {
          "base_uri": "https://localhost:8080/"
        },
        "id": "wzsDzbtIwrOI",
        "outputId": "518d5bc7-d5df-450c-faba-40932c8461a5"
      },
      "execution_count": 19,
      "outputs": [
        {
          "output_type": "stream",
          "name": "stdout",
          "text": [
            "體溫:37\n",
            "體溫略高!\n"
          ]
        }
      ]
    },
    {
      "cell_type": "code",
      "source": [
        "score = int(input(\"請輸入成績: \"))\n",
        "if score >= 90:\n",
        "  print('A')\n",
        "elif score <=89 and score >= 80:\n",
        "  print('B')\n",
        "elif score <=79 and score >= 70:\n",
        "  print('C')\n",
        "elif score <=69 and score >= 60:\n",
        "  print('D')\n",
        "else:\n",
        "  print('E')"
      ],
      "metadata": {
        "colab": {
          "base_uri": "https://localhost:8080/"
        },
        "id": "fP3inekt2LvZ",
        "outputId": "3ed341be-135a-410e-c9d0-63d392136797"
      },
      "execution_count": 21,
      "outputs": [
        {
          "output_type": "stream",
          "name": "stdout",
          "text": [
            "score: 89\n",
            "B\n"
          ]
        }
      ]
    },
    {
      "cell_type": "code",
      "source": [
        "month = int(input(\"請輸入月份: \"))\n",
        "if (month ==3 or month==4 or month==5):\n",
        "  print(month,\"月是春天\")\n",
        "elif (month ==6 or month==7 or month==8):\n",
        "  print(month,\"月是夏天\")\n",
        "elif (month ==9 or month==10 or month==11):\n",
        "  print(month,\"月是秋天\")\n",
        "elif (month ==12 or month==1 or month==2):\n",
        "  print(month,\"月是冬天\")\n",
        "else:\n",
        "  print(\"月份不在範圍內\")"
      ],
      "metadata": {
        "colab": {
          "base_uri": "https://localhost:8080/"
        },
        "id": "LwzGdz0K3eEn",
        "outputId": "69c1ae79-7306-476e-aca9-4a30f80346ae"
      },
      "execution_count": 23,
      "outputs": [
        {
          "output_type": "stream",
          "name": "stdout",
          "text": [
            "請輸入月份: 12\n",
            "12 月是冬天\n"
          ]
        }
      ]
    },
    {
      "cell_type": "code",
      "source": [
        "income = int(input(\"請輸入今年收入淨額:\"))\n",
        "if (income>=2000000):\n",
        "  tax = income*0.3\n",
        "  print(\"付稅金額:\",tax,\"元\")\n",
        "elif (income<2000000 and income>=1000000):\n",
        "  tax = income*0.21\n",
        "  print(\"付稅金額:\",tax,\"元\")\n",
        "elif (income>=600000 and income<1000000):\n",
        "  tax = income*0.13\n",
        "  print(\"付稅金額:\",tax,\"元\")\n",
        "elif (income>=300000 and income<600000):\n",
        "  tax = income*0.06\n",
        "  print(\"付稅金額:\",tax,\"元\")\n",
        "else :\n",
        "  print(\"付稅金額為0元\")"
      ],
      "metadata": {
        "colab": {
          "base_uri": "https://localhost:8080/"
        },
        "id": "PRC7Twj24LGw",
        "outputId": "826d728b-a96c-48ff-ab57-b2ed42270203"
      },
      "execution_count": 24,
      "outputs": [
        {
          "output_type": "stream",
          "name": "stdout",
          "text": [
            "請輸入今年收入淨額:2000000\n",
            "付稅金額: 600000.0 元\n"
          ]
        }
      ]
    }
  ]
}